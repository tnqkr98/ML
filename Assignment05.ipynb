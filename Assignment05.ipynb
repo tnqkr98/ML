{
 "cells": [
  {
   "cell_type": "code",
   "execution_count": 1,
   "metadata": {},
   "outputs": [
    {
     "name": "stdout",
     "output_type": "stream",
     "text": [
      "loading the train img Complete : 1027\n",
      "loading the validation img Complete : 256\n"
     ]
    }
   ],
   "source": [
    "import cv2\n",
    "import os\n",
    "import numpy as np\n",
    "import matplotlib.pyplot as plt\n",
    "from pandas import DataFrame\n",
    "ep = 1e-7\n",
    "\n",
    "##--------------------Data Preprocesseing -------------------------------\n",
    "\n",
    "Train_X = []\n",
    "Train_Y = []\n",
    "y=0\n",
    "for a,b,file in os.walk(\"horse-or-human/train\"):\n",
    "    for i in file:\n",
    "        str1 = a+\"/\"+str(i)\n",
    "        t = cv2.imread(str1)\n",
    "        t = cv2.cvtColor(t,cv2.COLOR_BGR2GRAY)\n",
    "        t = t/255\n",
    "        t = t.reshape(10000)\n",
    "        Train_X.append(t)\n",
    "        Train_Y.append(y-1)\n",
    "    y+=1\n",
    "\n",
    "Test_X = []\n",
    "Test_Y = []\n",
    "y=0\n",
    "for a,b,file in os.walk(\"horse-or-human/validation\"):\n",
    "    for i in file:\n",
    "        str1 = a+\"/\"+str(i)\n",
    "        t = cv2.imread(str1)\n",
    "        t = cv2.cvtColor(t,cv2.COLOR_BGR2GRAY)\n",
    "        t = t/255\n",
    "        t = t.reshape(10000)  #vectorization\n",
    "        Test_X.append(t)\n",
    "        Test_Y.append(y-1)\n",
    "    y+=1\n",
    "print(\"loading the train img Complete : %d\"%(len(Train_X)))\n",
    "print(\"loading the validation img Complete : %d\"%(len(Test_X)))\n"
   ]
  }
 ],
 "metadata": {
  "kernelspec": {
   "display_name": "Python 3",
   "language": "python",
   "name": "python3"
  },
  "language_info": {
   "codemirror_mode": {
    "name": "ipython",
    "version": 3
   },
   "file_extension": ".py",
   "mimetype": "text/x-python",
   "name": "python",
   "nbconvert_exporter": "python",
   "pygments_lexer": "ipython3",
   "version": "3.7.3"
  }
 },
 "nbformat": 4,
 "nbformat_minor": 2
}
