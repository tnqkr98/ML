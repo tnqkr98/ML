{
 "cells": [
  {
   "cell_type": "code",
   "execution_count": 2,
   "metadata": {},
   "outputs": [
    {
     "name": "stdout",
     "output_type": "stream",
     "text": [
      "loading the train img Complete : 1027\n",
      "loading the validation img Complete : 256\n"
     ]
    }
   ],
   "source": [
    "import cv2\n",
    "import os\n",
    "import numpy as np\n",
    "import time\n",
    "import matplotlib.pyplot as plt\n",
    "\n",
    "##--------------------Data Preprocesseing -------------------------------\n",
    "\n",
    "Train_X = []\n",
    "Train_Y = []\n",
    "y=0\n",
    "for a,b,file in os.walk(\"horse-or-human/train\"):\n",
    "    for i in file:\n",
    "        str1 = a+\"/\"+str(i)\n",
    "        t = cv2.imread(str1)\n",
    "        t = cv2.cvtColor(t,cv2.COLOR_BGR2GRAY)\n",
    "        t = t/255\n",
    "        t = t.reshape(10000)\n",
    "        Train_X.append(t)\n",
    "        Train_Y.append(y-1)\n",
    "    y+=1\n",
    "\n",
    "Test_X = []\n",
    "Test_Y = []\n",
    "y=0\n",
    "for a,b,file in os.walk(\"horse-or-human/validation\"):\n",
    "    for i in file:\n",
    "        str1 = a+\"/\"+str(i)\n",
    "        t = cv2.imread(str1)\n",
    "        t = cv2.cvtColor(t,cv2.COLOR_BGR2GRAY)\n",
    "        t = t/255\n",
    "        t = t.reshape(10000)  #vectorization\n",
    "        Test_X.append(t)\n",
    "        Test_Y.append(y-1)\n",
    "    y+=1\n",
    "print(\"loading the train img Complete : %d\"%(len(Train_X)))\n",
    "print(\"loading the validation img Complete : %d\"%(len(Test_X)))\n"
   ]
  },
  {
   "cell_type": "code",
   "execution_count": 3,
   "metadata": {},
   "outputs": [],
   "source": [
    "#------------------------ function definition------------------------------------\n",
    "\n",
    "def sigmoid(z):\n",
    "    return 1/(1+np.exp(-z))\n",
    "\n",
    "def gradient_decent_vectorization(w,b,rate):\n",
    "    w = np.asarray(w).reshape(len(Train_X[0]))\n",
    "    x = np.asarray(Train_X).T\n",
    "    oz = sigmoid(np.matmul(w,x)+b)  # x : 10000 X 1027 matrix,    oz : 1027 vector\n",
    "    nw = w - rate*(1/len(Train_X[0]))*np.matmul(x,oz-Train_Y)\n",
    "    nb = b - rate*(1/len(Train_X[0]))*np.sum(oz-Train_Y)\n",
    "    return (nw,nb)\n",
    "\n",
    "def cross_entropy(py,y):\n",
    "    sum = 0\n",
    "    for i in range(len(py)):\n",
    "        sum += -y[i]*np.log(py[i]+ep)-(1-y[i])*np.log(1-py[i]+ep)\n",
    "    return sum/len(py)\n",
    "\n",
    "\n",
    "#----------------------- ready to learning ----------------------------------\n",
    "\n",
    "np.random.seed(3)\n",
    "w = np.random.normal(0.000001,0.000009,10000)\n",
    "\n",
    "b = 4\n",
    "rate = 0.021\n",
    "epoches = 2000\n",
    "\n",
    "Train_Acc = []\n",
    "Train_Loss = []\n",
    "Val_Acc = []\n",
    "Val_Loss = []\n"
   ]
  },
  {
   "cell_type": "code",
   "execution_count": null,
   "metadata": {},
   "outputs": [],
   "source": []
  }
 ],
 "metadata": {
  "kernelspec": {
   "display_name": "Python 3",
   "language": "python",
   "name": "python3"
  },
  "language_info": {
   "codemirror_mode": {
    "name": "ipython",
    "version": 3
   },
   "file_extension": ".py",
   "mimetype": "text/x-python",
   "name": "python",
   "nbconvert_exporter": "python",
   "pygments_lexer": "ipython3",
   "version": "3.7.3"
  }
 },
 "nbformat": 4,
 "nbformat_minor": 2
}
