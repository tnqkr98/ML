{
 "cells": [
  {
   "cell_type": "code",
   "execution_count": 7,
   "metadata": {},
   "outputs": [
    {
     "name": "stdout",
     "output_type": "stream",
     "text": [
      "loading the train img Complete : 1027\n",
      "loading the validation img Complete : 256\n"
     ]
    }
   ],
   "source": [
    "import cv2\n",
    "import os\n",
    "import numpy as np\n",
    "import matplotlib.pyplot as plt\n",
    "from pandas import DataFrame\n",
    "ep = 1e-7\n",
    "\n",
    "##--------------------Data Preprocesseing -------------------------------\n",
    "\n",
    "Train_X = []\n",
    "Train_Y = []\n",
    "y=0\n",
    "for a,b,file in os.walk(\"horse-or-human/train\"):\n",
    "    for i in file:\n",
    "        str1 = a+\"/\"+str(i)\n",
    "        t = cv2.imread(str1)\n",
    "        t = cv2.cvtColor(t,cv2.COLOR_BGR2GRAY)\n",
    "        t = t/255\n",
    "        t = t.reshape(10000)\n",
    "        Train_X.append(t)\n",
    "        Train_Y.append(y-1)\n",
    "    y+=1\n",
    "\n",
    "Test_X = []\n",
    "Test_Y = []\n",
    "y=0\n",
    "for a,b,file in os.walk(\"horse-or-human/validation\"):\n",
    "    for i in file:\n",
    "        str1 = a+\"/\"+str(i)\n",
    "        t = cv2.imread(str1)\n",
    "        t = cv2.cvtColor(t,cv2.COLOR_BGR2GRAY)\n",
    "        t = t/255\n",
    "        t = t.reshape(10000)  #vectorization\n",
    "        Test_X.append(t)\n",
    "        Test_Y.append(y-1)\n",
    "    y+=1\n",
    "print(\"loading the train img Complete : %d\"%(len(Train_X)))\n",
    "print(\"loading the validation img Complete : %d\"%(len(Test_X)))"
   ]
  },
  {
   "cell_type": "code",
   "execution_count": 12,
   "metadata": {},
   "outputs": [
    {
     "name": "stdout",
     "output_type": "stream",
     "text": [
      "relu mode activate\n"
     ]
    }
   ],
   "source": [
    "X1 = []  #첫번째출력\n",
    "X2 = []  #두번째출력\n",
    "X3 = []  #최종 출력\n",
    "\n",
    "NodeSize = 50\n",
    "ActivationFuncion = \"leakyrelu\"\n",
    "rate = 0.009\n",
    "epoches = 2000\n",
    "\n",
    "np.random.seed(3)\n",
    "if ActivationFuncion == \"sigmoid\" or ActivationFuncion == \"tanh\": # Xavier Initialization  (for gradient vanishing !!!!)\n",
    "    w1 = np.random.randn(NodeSize, 10000) / np.sqrt(NodeSize)\n",
    "    w2 = np.random.randn(NodeSize, NodeSize) / np.sqrt(NodeSize)\n",
    "    w3 = np.random.randn(NodeSize, 1) / np.sqrt(NodeSize)\n",
    "    b3 = 0.3\n",
    "    b2 = np.random.randn(1, NodeSize)\n",
    "    b1 = np.random.randn(1, NodeSize)\n",
    "    print(\"sigmoid mode activate\")\n",
    "elif ActivationFuncion == \"relu\" or ActivationFuncion == \"leakyrelu\": # He Initialization (for Relu)\n",
    "    #w1 = np.random.uniform(-0.000009, 0.000009, (NodeSize,10000)) /  np.sqrt(10000/2)\n",
    "    #w2 = np.random.uniform(-0.000009, 0.000009, (NodeSize,NodeSize)) /  np.sqrt(NodeSize/2)\n",
    "    #w3 = np.zeros(NodeSize)+1.5\n",
    "    #w3 = np.random.uniform(-0.009, 0.009, (NodeSize, 1)) / np.sqrt(NodeSize / 2)\n",
    "\n",
    "    w1 = np.random.randn(NodeSize, 10000) /np.sqrt(10000000)\n",
    "    w2 = np.random.randn(NodeSize, NodeSize) /np.sqrt(NodeSize*1000)\n",
    "    w3 = np.random.randn(NodeSize, 1) /(np.sqrt(1*1000))\n",
    "    #w1 = np.random.rand((NodeSize,10000))*np.sqrt(1/(NodeSize+10000))\n",
    "    #w2 = np.random.rand((NodeSize,NodeSize)) * np.sqrt(1 / (NodeSize + NodeSize))\n",
    "    #w3 = np.random.rand((NodeSize, 1)) * np.sqrt(1 / (NodeSize + 1))\n",
    "\n",
    "    b3 = 0.01\n",
    "    b2 = np.random.randn(1, NodeSize)/np.square(NodeSize)\n",
    "    #b2 = np.zeros(NodeSize)+1\n",
    "    #b1 = np.zeros(NodeSize)+1\n",
    "    b1 = np.random.randn(1, NodeSize)/np.square(NodeSize)\n",
    "    print(\"relu mode activate\")\n",
    "\n",
    "\n",
    "\n",
    "w1 = np.asarray(w1).T  # 10000 X 10\n",
    "w2 = np.asarray(w2).T  # 10 x 10\n",
    "w3 = np.asarray(w3).T  # 1 x 10\n",
    "w3.resize([NodeSize,1])\n",
    "\n",
    "\n",
    "b1 = np.asarray(b1).reshape([1,NodeSize]) # 1 X 10\n",
    "b2 = np.asarray(b2).reshape([1,NodeSize]) # 1 X 10\n",
    "b3 = np.asarray(b3)                       # 1 X 1\n",
    "\n",
    "#시각화용\n",
    "Train_Loss = []\n",
    "Train_Acc = []\n",
    "Val_Loss = []\n",
    "Val_Acc = []"
   ]
  },
  {
   "cell_type": "code",
   "execution_count": 9,
   "metadata": {},
   "outputs": [],
   "source": [
    "#------------------------------------------------------------------------------------\n",
    "\n",
    "def ActFunc(type,z):\n",
    "    if type == \"sigmoid\":\n",
    "        return 1/(1+np.exp(-z))\n",
    "    if type == \"tanh\":\n",
    "        return (np.exp(z) - np.exp(-z))/(np.exp(z)+np.exp(-z))\n",
    "    if type == \"relu\":\n",
    "        return z * (z>0)\n",
    "    if type == \"leakyrelu\":\n",
    "        return np.where(z > 0, z, z * 0.01)\n",
    "\n",
    "def derivAct(type,z):\n",
    "    if type == \"sigmoid\":\n",
    "        return ActFunc(\"sigmoid\",z)*(1-ActFunc(\"sigmoid\",z))\n",
    "    if type == \"tanh\":\n",
    "        return np.square(2/(np.exp(z)+np.exp(-z)))\n",
    "    if type == \"relu\":\n",
    "        return 1.*(z>0)\n",
    "    if type == \"leakyrelu\":\n",
    "        return np.where(z > 0, 1., -0.01)\n",
    "\n",
    "def cross_entropy(py,y):\n",
    "    sum = 0\n",
    "    for i in range(len(py)):\n",
    "        sum += -y[i]*np.log(py[i]+ep)-(1-y[i])*np.log(1-py[i]+ep)\n",
    "    return sum/len(py)\n",
    "\n",
    "\n",
    "def DataFoward(type,input):   # 입력 TX 출력 X1,X2,X3 (각 층의 출력값)\n",
    "    TX = np.asarray(input)\n",
    "\n",
    "    z1 = np.matmul(TX,w1)+b1\n",
    "    a1 = ActFunc(type,z1)\n",
    "    a1 = np.asarray(a1)\n",
    "\n",
    "    z2 = np.matmul(a1,w2)+b2\n",
    "    a2 = ActFunc(type,z2)\n",
    "    a2 = np.asarray(a2)\n",
    "\n",
    "    z3 = np.matmul(a2,w3)+b3\n",
    "    a3 = ActFunc(\"sigmoid\",z3)  # 출력층으로는 sigmoid\n",
    "    a3 = np.asarray(a3)\n",
    "    return (z1,z2,z3,a1,a2,a3)\n",
    "\n",
    "\n",
    "def BackPropagation(type,A1,A2,A3,Z1,Z2,Z3): # 입력 A1,A2,A3  출력 W1,W2,W3,B1,B2,B3 (수정된 각층의 가중치와 바이어스)\n",
    "    TX = np.asarray(Train_X)\n",
    "    TY = np.asarray(Train_Y).reshape([1027,1])\n",
    "\n",
    "    loss3 = (1/len(A3))*(A3 - TY)*derivAct(type,Z3)\n",
    "    loss3 = np.asarray(loss3)\n",
    "    bloss3 = np.sum(loss3)\n",
    "\n",
    "    loss2 = np.matmul(loss3,w3.T)*derivAct(type,Z2)\n",
    "    bloss2 = loss2.sum(axis=0)\n",
    "    bloss2 = bloss2.reshape([1,NodeSize])\n",
    "\n",
    "    loss1 = np.matmul(loss2,w2.T)*derivAct(type,Z1)\n",
    "    bloss1 = loss1.sum(axis=0)\n",
    "    bloss1 = bloss1.reshape([1, NodeSize])\n",
    "\n",
    "    w3.resize([NodeSize,1])\n",
    "\n",
    "    W3 = w3-rate*np.matmul(A2.T,loss3)\n",
    "    B3 = b3-rate*bloss3\n",
    "    W2 = w2-rate*np.matmul(A1.T,loss2)\n",
    "    B2 = b2-rate*bloss2\n",
    "    W1 = w1-rate*np.matmul(TX.T,loss1)\n",
    "    B1 = b1-rate*bloss1\n",
    "\n",
    "    W3 = np.asarray(W3)\n",
    "    W2 = np.asarray(W2)\n",
    "    W1 = np.asarray(W1)\n",
    "    B3 = np.asarray(B3)\n",
    "    B2 = np.asarray(B2).reshape([1,NodeSize])\n",
    "    B1 = np.asarray(B1).reshape([1,NodeSize])\n",
    "\n",
    "    return (W1,W2,W3,B1,B2,B3)\n"
   ]
  },
  {
   "cell_type": "code",
   "execution_count": 12,
   "metadata": {},
   "outputs": [
    {
     "name": "stdout",
     "output_type": "stream",
     "text": [
      "epoches : 0 , train loss : 0.693465 , train_acc : 0.513145, vloss : 0.690819, v_acc : 0.500000\n",
      "epoches : 200 , train loss : 0.676835 , train_acc : 0.658228, vloss : 0.673126, v_acc : 0.683594\n",
      "epoches : 400 , train loss : 0.618124 , train_acc : 0.760467, vloss : 0.597379, v_acc : 0.789062\n",
      "epoches : 600 , train loss : 0.472913 , train_acc : 0.822785, vloss : 0.427451, v_acc : 0.863281\n",
      "complete\n"
     ]
    }
   ],
   "source": [
    "#learning\n",
    "\n",
    "result = []\n",
    "for i in range(epoches):\n",
    "    (Z1,Z2,Z3,A1,A2,A3) = DataFoward(ActivationFuncion,Train_X)\n",
    "\n",
    "    tuplewb = BackPropagation(ActivationFuncion,A1,A2,A3,Z1,Z2,Z3)\n",
    "    w1 = tuplewb[0]\n",
    "    w2 = tuplewb[1]\n",
    "    w3 = tuplewb[2]\n",
    "    b1 = tuplewb[3]\n",
    "    b2 = tuplewb[4]\n",
    "    b3 = tuplewb[5] # update\n",
    "\n",
    "    train_loss = cross_entropy(A3, Train_Y)\n",
    "    predict_y = A3\n",
    "    Train_Loss.append([i, train_loss])\n",
    "\n",
    "    for j in range(len(predict_y)):\n",
    "        if predict_y[j] > 0.5:\n",
    "            predict_y[j] = 1\n",
    "        else :\n",
    "            predict_y[j] = 0\n",
    "\n",
    "    acc_count = 0\n",
    "    for k in range(len(predict_y)):\n",
    "        if predict_y[k] == Train_Y[k]:\n",
    "            acc_count += 1\n",
    "    train_acc = acc_count / len(predict_y)\n",
    "    Train_Acc.append([i, train_acc])\n",
    "\n",
    "    # ---------------------------------------------#\n",
    "    vpredict_y = DataFoward(ActivationFuncion,Test_X)[5]\n",
    "\n",
    "    vloss = cross_entropy(vpredict_y,Test_Y)\n",
    "    Val_Loss.append([i,vloss])\n",
    "    for p in range(len(vpredict_y)):\n",
    "        if vpredict_y[p] > 0.5:\n",
    "            vpredict_y[p] = 1\n",
    "        else:\n",
    "            vpredict_y[p] = 0\n",
    "\n",
    "    vacc_count = 0\n",
    "    for q in range(len(vpredict_y)):\n",
    "        if vpredict_y[q] == Test_Y[q]:\n",
    "            vacc_count += 1\n",
    "    v_acc = vacc_count / len(vpredict_y)\n",
    "    Val_Acc.append([i,v_acc])\n",
    "    if i % 200 == 0 :\n",
    "        print(\"epoches : %d , train loss : %f , train_acc : %f, vloss : %f, v_acc : %f\"%(i,train_loss,train_acc,vloss,v_acc))\n",
    "    if i == epoches-1 :\n",
    "        result.append(train_loss)\n",
    "        result.append(train_acc)\n",
    "        result.append(vloss)\n",
    "        result.append(v_acc)\n",
    "        print(\"complete\")"
   ]
  },
  {
   "cell_type": "code",
   "execution_count": 17,
   "metadata": {},
   "outputs": [
    {
     "data": {
      "image/png": "[encoded data removed]",
      "text/plain": [
       "<Figure size 432x288 with 1 Axes>"
      ]
     },
     "metadata": {
      "needs_background": "light"
     },
     "output_type": "display_data"
    },
    {
     "data": {
      "image/png": "[encoded data removed]",
      "text/plain": [
       "<Figure size 432x288 with 1 Axes>"
      ]
     },
     "metadata": {
      "needs_background": "light"
     },
     "output_type": "display_data"
    },
    {
     "data": {
      "text/html": [
       "<div>\n",
       "<style scoped>\n",
       "    .dataframe tbody tr th:only-of-type {\n",
       "        vertical-align: middle;\n",
       "    }\n",
       "\n",
       "    .dataframe tbody tr th {\n",
       "        vertical-align: top;\n",
       "    }\n",
       "\n",
       "    .dataframe thead th {\n",
       "        text-align: right;\n",
       "    }\n",
       "</style>\n",
       "<table border=\"1\" class=\"dataframe\">\n",
       "  <thead>\n",
       "    <tr style=\"text-align: right;\">\n",
       "      <th></th>\n",
       "      <th>loss</th>\n",
       "      <th>accuracy</th>\n",
       "    </tr>\n",
       "  </thead>\n",
       "  <tbody>\n",
       "    <tr>\n",
       "      <th>training</th>\n",
       "      <td>0.339</td>\n",
       "      <td>0.892</td>\n",
       "    </tr>\n",
       "    <tr>\n",
       "      <th>validation</th>\n",
       "      <td>0.365</td>\n",
       "      <td>0.852</td>\n",
       "    </tr>\n",
       "  </tbody>\n",
       "</table>\n",
       "</div>"
      ],
      "text/plain": [
       "             loss  accuracy\n",
       "training    0.339     0.892\n",
       "validation  0.365     0.852"
      ]
     },
     "execution_count": 17,
     "metadata": {},
     "output_type": "execute_result"
    },
    {
     "data": {
      "text/plain": [
       "<Figure size 432x288 with 0 Axes>"
      ]
     },
     "metadata": {},
     "output_type": "display_data"
    }
   ],
   "source": [
    "listOfTrainLoss = np.asarray(Train_Loss)\n",
    "listOfTrainAcc = np.asarray(Train_Acc)\n",
    "listOfTestLoss = np.asarray(Val_Loss)\n",
    "listOfTestAcc = np.asarray(Val_Acc)\n",
    "plt.title(ActivationFuncion)\n",
    "plt.xlabel('epoch')\n",
    "plt.xlim(0,epoches)\n",
    "plt.plot(listOfTrainLoss[:,0],listOfTrainLoss[:,1],c=\"y\",label='TrainLoss')\n",
    "plt.plot(listOfTestLoss[:,0],listOfTestLoss[:,1],label='ValLoss')\n",
    "plt.legend(loc=\"upper left\")\n",
    "plt.show()\n",
    "plt.title(ActivationFuncion)\n",
    "plt.xlabel('epoch')\n",
    "plt.xlim(0,epoches)\n",
    "plt.plot(listOfTrainAcc[:,0],listOfTrainAcc[:,1],c=\"r\",label='TrainAcc')\n",
    "plt.plot(listOfTestAcc[:,0],listOfTestAcc[:,1],c=\"b\",label='ValAcc')\n",
    "plt.legend(loc=\"upper left\")\n",
    "plt.show()\n",
    "\n",
    "fig = plt.figure()\n",
    "\n",
    "data = {'loss':[np.round(result[0][0],3),np.round(result[2][0],3)],'accuracy':[np.round(result[1],3),np.round(result[3],3)]}\n",
    "frame = DataFrame(data,index=[\"training\",\"validation\"])\n",
    "frame\n"
   ]
  },
  {
   "cell_type": "code",
   "execution_count": 19,
   "metadata": {},
   "outputs": [
    {
     "name": "stdout",
     "output_type": "stream",
     "text": [
      "epoches : 0 , train loss : 0.732957 , train_acc : 0.513145, vloss : 0.715923, v_acc : 0.500000\n",
      "epoches : 200 , train loss : 0.679297 , train_acc : 0.588121, vloss : 0.665326, v_acc : 0.625000\n",
      "epoches : 400 , train loss : 0.655333 , train_acc : 0.643622, vloss : 0.652193, v_acc : 0.660156\n",
      "epoches : 600 , train loss : 0.632027 , train_acc : 0.695229, vloss : 0.635725, v_acc : 0.667969\n",
      "epoches : 800 , train loss : 0.607815 , train_acc : 0.717624, vloss : 0.612002, v_acc : 0.699219\n",
      "epoches : 1000 , train loss : 0.583817 , train_acc : 0.737098, vloss : 0.587430, v_acc : 0.707031\n",
      "epoches : 1200 , train loss : 0.561008 , train_acc : 0.753651, vloss : 0.564762, v_acc : 0.718750\n",
      "epoches : 1400 , train loss : 0.539299 , train_acc : 0.764362, vloss : 0.542041, v_acc : 0.730469\n",
      "complete\n"
     ]
    }
   ],
   "source": [
    "#learning\n",
    "\n",
    "result = []\n",
    "for i in range(epoches):\n",
    "    (Z1,Z2,Z3,A1,A2,A3) = DataFoward(ActivationFuncion,Train_X)\n",
    "\n",
    "    tuplewb = BackPropagation(ActivationFuncion,A1,A2,A3,Z1,Z2,Z3)\n",
    "    w1 = tuplewb[0]\n",
    "    w2 = tuplewb[1]\n",
    "    w3 = tuplewb[2]\n",
    "    b1 = tuplewb[3]\n",
    "    b2 = tuplewb[4]\n",
    "    b3 = tuplewb[5] # update\n",
    "\n",
    "    train_loss = cross_entropy(A3, Train_Y)\n",
    "    predict_y = A3\n",
    "    Train_Loss.append([i, train_loss])\n",
    "\n",
    "    for j in range(len(predict_y)):\n",
    "        if predict_y[j] > 0.5:\n",
    "            predict_y[j] = 1\n",
    "        else :\n",
    "            predict_y[j] = 0\n",
    "\n",
    "    acc_count = 0\n",
    "    for k in range(len(predict_y)):\n",
    "        if predict_y[k] == Train_Y[k]:\n",
    "            acc_count += 1\n",
    "    train_acc = acc_count / len(predict_y)\n",
    "    Train_Acc.append([i, train_acc])\n",
    "\n",
    "    # ---------------------------------------------#\n",
    "    vpredict_y = DataFoward(ActivationFuncion,Test_X)[5]\n",
    "\n",
    "    vloss = cross_entropy(vpredict_y,Test_Y)\n",
    "    Val_Loss.append([i,vloss])\n",
    "    for p in range(len(vpredict_y)):\n",
    "        if vpredict_y[p] > 0.5:\n",
    "            vpredict_y[p] = 1\n",
    "        else:\n",
    "            vpredict_y[p] = 0\n",
    "\n",
    "    vacc_count = 0\n",
    "    for q in range(len(vpredict_y)):\n",
    "        if vpredict_y[q] == Test_Y[q]:\n",
    "            vacc_count += 1\n",
    "    v_acc = vacc_count / len(vpredict_y)\n",
    "    Val_Acc.append([i,v_acc])\n",
    "    if i % 200 == 0 :\n",
    "        print(\"epoches : %d , train loss : %f , train_acc : %f, vloss : %f, v_acc : %f\"%(i,train_loss,train_acc,vloss,v_acc))\n",
    "    if i == epoches-1 :\n",
    "        result.append(train_loss)\n",
    "        result.append(train_acc)\n",
    "        result.append(vloss)\n",
    "        result.append(v_acc)\n",
    "        print(\"complete\")"
   ]
  },
  {
   "cell_type": "code",
   "execution_count": 20,
   "metadata": {},
   "outputs": [
    {
     "data": {
      "image/png": "[encoded data removed]",
      "text/plain": [
       "<Figure size 432x288 with 1 Axes>"
      ]
     },
     "metadata": {
      "needs_background": "light"
     },
     "output_type": "display_data"
    },
    {
     "data": {
      "image/png": "[encoded data removed]",
      "text/plain": [
       "<Figure size 432x288 with 1 Axes>"
      ]
     },
     "metadata": {
      "needs_background": "light"
     },
     "output_type": "display_data"
    },
    {
     "data": {
      "text/html": [
       "<div>\n",
       "<style scoped>\n",
       "    .dataframe tbody tr th:only-of-type {\n",
       "        vertical-align: middle;\n",
       "    }\n",
       "\n",
       "    .dataframe tbody tr th {\n",
       "        vertical-align: top;\n",
       "    }\n",
       "\n",
       "    .dataframe thead th {\n",
       "        text-align: right;\n",
       "    }\n",
       "</style>\n",
       "<table border=\"1\" class=\"dataframe\">\n",
       "  <thead>\n",
       "    <tr style=\"text-align: right;\">\n",
       "      <th></th>\n",
       "      <th>loss</th>\n",
       "      <th>accuracy</th>\n",
       "    </tr>\n",
       "  </thead>\n",
       "  <tbody>\n",
       "    <tr>\n",
       "      <th>training</th>\n",
       "      <td>0.529</td>\n",
       "      <td>0.774</td>\n",
       "    </tr>\n",
       "    <tr>\n",
       "      <th>validation</th>\n",
       "      <td>0.532</td>\n",
       "      <td>0.742</td>\n",
       "    </tr>\n",
       "  </tbody>\n",
       "</table>\n",
       "</div>"
      ],
      "text/plain": [
       "             loss  accuracy\n",
       "training    0.529     0.774\n",
       "validation  0.532     0.742"
      ]
     },
     "execution_count": 20,
     "metadata": {},
     "output_type": "execute_result"
    },
    {
     "data": {
      "text/plain": [
       "<Figure size 432x288 with 0 Axes>"
      ]
     },
     "metadata": {},
     "output_type": "display_data"
    }
   ],
   "source": [
    "listOfTrainLoss = np.asarray(Train_Loss)\n",
    "listOfTrainAcc = np.asarray(Train_Acc)\n",
    "listOfTestLoss = np.asarray(Val_Loss)\n",
    "listOfTestAcc = np.asarray(Val_Acc)\n",
    "plt.title(ActivationFuncion)\n",
    "plt.xlabel('epoch')\n",
    "plt.xlim(0,epoches)\n",
    "plt.plot(listOfTrainLoss[:,0],listOfTrainLoss[:,1],c=\"y\",label='TrainLoss')\n",
    "plt.plot(listOfTestLoss[:,0],listOfTestLoss[:,1],label='ValLoss')\n",
    "plt.legend(loc=\"upper left\")\n",
    "plt.show()\n",
    "plt.title(ActivationFuncion)\n",
    "plt.xlabel('epoch')\n",
    "plt.xlim(0,epoches)\n",
    "plt.plot(listOfTrainAcc[:,0],listOfTrainAcc[:,1],c=\"r\",label='TrainAcc')\n",
    "plt.plot(listOfTestAcc[:,0],listOfTestAcc[:,1],c=\"b\",label='ValAcc')\n",
    "plt.legend(loc=\"upper left\")\n",
    "plt.show()\n",
    "\n",
    "fig = plt.figure()\n",
    "\n",
    "data = {'loss':[np.round(result[0][0],3),np.round(result[2][0],3)],'accuracy':[np.round(result[1],3),np.round(result[3],3)]}\n",
    "frame = DataFrame(data,index=[\"training\",\"validation\"])\n",
    "frame"
   ]
  },
  {
   "cell_type": "code",
   "execution_count": 22,
   "metadata": {},
   "outputs": [
    {
     "name": "stdout",
     "output_type": "stream",
     "text": [
      "epoches : 0 , train loss : 0.693031 , train_acc : 0.513145, vloss : 0.693167, v_acc : 0.500000\n",
      "epoches : 200 , train loss : 0.692791 , train_acc : 0.513145, vloss : 0.693133, v_acc : 0.500000\n",
      "epoches : 400 , train loss : 0.692494 , train_acc : 0.513145, vloss : 0.692994, v_acc : 0.500000\n",
      "epoches : 600 , train loss : 0.691774 , train_acc : 0.513145, vloss : 0.692516, v_acc : 0.500000\n",
      "epoches : 800 , train loss : 0.689560 , train_acc : 0.513145, vloss : 0.691179, v_acc : 0.500000\n",
      "epoches : 1000 , train loss : 0.683342 , train_acc : 0.513145, vloss : 0.687721, v_acc : 0.500000\n",
      "epoches : 1200 , train loss : 0.665782 , train_acc : 0.548199, vloss : 0.662992, v_acc : 0.500000\n",
      "epoches : 1400 , train loss : 0.615588 , train_acc : 0.637780, vloss : 0.569673, v_acc : 0.722656\n",
      "epoches : 1600 , train loss : 0.561104 , train_acc : 0.716650, vloss : 0.502646, v_acc : 0.855469\n",
      "complete\n"
     ]
    }
   ],
   "source": [
    "#learning\n",
    "\n",
    "result = []\n",
    "for i in range(epoches):\n",
    "    (Z1,Z2,Z3,A1,A2,A3) = DataFoward(ActivationFuncion,Train_X)\n",
    "\n",
    "    tuplewb = BackPropagation(ActivationFuncion,A1,A2,A3,Z1,Z2,Z3)\n",
    "    w1 = tuplewb[0]\n",
    "    w2 = tuplewb[1]\n",
    "    w3 = tuplewb[2]\n",
    "    b1 = tuplewb[3]\n",
    "    b2 = tuplewb[4]\n",
    "    b3 = tuplewb[5] # update\n",
    "\n",
    "    train_loss = cross_entropy(A3, Train_Y)\n",
    "    predict_y = A3\n",
    "    Train_Loss.append([i, train_loss])\n",
    "\n",
    "    for j in range(len(predict_y)):\n",
    "        if predict_y[j] > 0.5:\n",
    "            predict_y[j] = 1\n",
    "        else :\n",
    "            predict_y[j] = 0\n",
    "\n",
    "    acc_count = 0\n",
    "    for k in range(len(predict_y)):\n",
    "        if predict_y[k] == Train_Y[k]:\n",
    "            acc_count += 1\n",
    "    train_acc = acc_count / len(predict_y)\n",
    "    Train_Acc.append([i, train_acc])\n",
    "\n",
    "    # ---------------------------------------------#\n",
    "    vpredict_y = DataFoward(ActivationFuncion,Test_X)[5]\n",
    "\n",
    "    vloss = cross_entropy(vpredict_y,Test_Y)\n",
    "    Val_Loss.append([i,vloss])\n",
    "    for p in range(len(vpredict_y)):\n",
    "        if vpredict_y[p] > 0.5:\n",
    "            vpredict_y[p] = 1\n",
    "        else:\n",
    "            vpredict_y[p] = 0\n",
    "\n",
    "    vacc_count = 0\n",
    "    for q in range(len(vpredict_y)):\n",
    "        if vpredict_y[q] == Test_Y[q]:\n",
    "            vacc_count += 1\n",
    "    v_acc = vacc_count / len(vpredict_y)\n",
    "    Val_Acc.append([i,v_acc])\n",
    "    if i % 200 == 0 :\n",
    "        print(\"epoches : %d , train loss : %f , train_acc : %f, vloss : %f, v_acc : %f\"%(i,train_loss,train_acc,vloss,v_acc))\n",
    "    if i == epoches-1 :\n",
    "        result.append(train_loss)\n",
    "        result.append(train_acc)\n",
    "        result.append(vloss)\n",
    "        result.append(v_acc)\n",
    "        print(\"complete\")"
   ]
  },
  {
   "cell_type": "code",
   "execution_count": 23,
   "metadata": {},
   "outputs": [
    {
     "data": {
      "image/png": "[encoded data removed]",
      "text/plain": [
       "<Figure size 432x288 with 1 Axes>"
      ]
     },
     "metadata": {
      "needs_background": "light"
     },
     "output_type": "display_data"
    },
    {
     "data": {
      "image/png": "[encoded data removed]",
      "text/plain": [
       "<Figure size 432x288 with 1 Axes>"
      ]
     },
     "metadata": {
      "needs_background": "light"
     },
     "output_type": "display_data"
    },
    {
     "data": {
      "text/html": [
       "<div>\n",
       "<style scoped>\n",
       "    .dataframe tbody tr th:only-of-type {\n",
       "        vertical-align: middle;\n",
       "    }\n",
       "\n",
       "    .dataframe tbody tr th {\n",
       "        vertical-align: top;\n",
       "    }\n",
       "\n",
       "    .dataframe thead th {\n",
       "        text-align: right;\n",
       "    }\n",
       "</style>\n",
       "<table border=\"1\" class=\"dataframe\">\n",
       "  <thead>\n",
       "    <tr style=\"text-align: right;\">\n",
       "      <th></th>\n",
       "      <th>loss</th>\n",
       "      <th>accuracy</th>\n",
       "    </tr>\n",
       "  </thead>\n",
       "  <tbody>\n",
       "    <tr>\n",
       "      <th>training</th>\n",
       "      <td>0.518</td>\n",
       "      <td>0.763</td>\n",
       "    </tr>\n",
       "    <tr>\n",
       "      <th>validation</th>\n",
       "      <td>0.491</td>\n",
       "      <td>0.879</td>\n",
       "    </tr>\n",
       "  </tbody>\n",
       "</table>\n",
       "</div>"
      ],
      "text/plain": [
       "             loss  accuracy\n",
       "training    0.518     0.763\n",
       "validation  0.491     0.879"
      ]
     },
     "execution_count": 23,
     "metadata": {},
     "output_type": "execute_result"
    },
    {
     "data": {
      "text/plain": [
       "<Figure size 432x288 with 0 Axes>"
      ]
     },
     "metadata": {},
     "output_type": "display_data"
    }
   ],
   "source": [
    "listOfTrainLoss = np.asarray(Train_Loss)\n",
    "listOfTrainAcc = np.asarray(Train_Acc)\n",
    "listOfTestLoss = np.asarray(Val_Loss)\n",
    "listOfTestAcc = np.asarray(Val_Acc)\n",
    "plt.title(ActivationFuncion)\n",
    "plt.xlabel('epoch')\n",
    "plt.xlim(0,epoches)\n",
    "plt.plot(listOfTrainLoss[:,0],listOfTrainLoss[:,1],c=\"y\",label='TrainLoss')\n",
    "plt.plot(listOfTestLoss[:,0],listOfTestLoss[:,1],label='ValLoss')\n",
    "plt.legend(loc=\"upper left\")\n",
    "plt.show()\n",
    "plt.title(ActivationFuncion)\n",
    "plt.xlabel('epoch')\n",
    "plt.xlim(0,epoches)\n",
    "plt.plot(listOfTrainAcc[:,0],listOfTrainAcc[:,1],c=\"r\",label='TrainAcc')\n",
    "plt.plot(listOfTestAcc[:,0],listOfTestAcc[:,1],c=\"b\",label='ValAcc')\n",
    "plt.legend(loc=\"upper left\")\n",
    "plt.show()\n",
    "\n",
    "fig = plt.figure()\n",
    "\n",
    "data = {'loss':[np.round(result[0][0],3),np.round(result[2][0],3)],'accuracy':[np.round(result[1],3),np.round(result[3],3)]}\n",
    "frame = DataFrame(data,index=[\"training\",\"validation\"])\n",
    "frame"
   ]
  },
  {
   "cell_type": "code",
   "execution_count": 13,
   "metadata": {},
   "outputs": [
    {
     "name": "stdout",
     "output_type": "stream",
     "text": [
      "epoches : 0 , train loss : 0.693031 , train_acc : 0.513145, vloss : 0.693167, v_acc : 0.500000\n",
      "epoches : 200 , train loss : 0.692792 , train_acc : 0.513145, vloss : 0.693134, v_acc : 0.500000\n",
      "epoches : 400 , train loss : 0.692495 , train_acc : 0.513145, vloss : 0.692994, v_acc : 0.500000\n",
      "epoches : 600 , train loss : 0.691775 , train_acc : 0.513145, vloss : 0.692517, v_acc : 0.500000\n",
      "epoches : 800 , train loss : 0.689561 , train_acc : 0.513145, vloss : 0.691179, v_acc : 0.500000\n",
      "epoches : 1000 , train loss : 0.683343 , train_acc : 0.513145, vloss : 0.687722, v_acc : 0.500000\n",
      "epoches : 1200 , train loss : 0.665787 , train_acc : 0.548199, vloss : 0.663018, v_acc : 0.500000\n",
      "epoches : 1400 , train loss : 0.615644 , train_acc : 0.637780, vloss : 0.569810, v_acc : 0.722656\n",
      "epoches : 1600 , train loss : 0.561410 , train_acc : 0.715677, vloss : 0.503047, v_acc : 0.855469\n",
      "epoches : 1800 , train loss : 0.518324 , train_acc : 0.763389, vloss : 0.491397, v_acc : 0.878906\n",
      "complete\n"
     ]
    }
   ],
   "source": [
    "#learning\n",
    "\n",
    "result = []\n",
    "for i in range(epoches):\n",
    "    (Z1,Z2,Z3,A1,A2,A3) = DataFoward(ActivationFuncion,Train_X)\n",
    "\n",
    "    tuplewb = BackPropagation(ActivationFuncion,A1,A2,A3,Z1,Z2,Z3)\n",
    "    w1 = tuplewb[0]\n",
    "    w2 = tuplewb[1]\n",
    "    w3 = tuplewb[2]\n",
    "    b1 = tuplewb[3]\n",
    "    b2 = tuplewb[4]\n",
    "    b3 = tuplewb[5] # update\n",
    "\n",
    "    train_loss = cross_entropy(A3, Train_Y)\n",
    "    predict_y = A3\n",
    "    Train_Loss.append([i, train_loss])\n",
    "\n",
    "    for j in range(len(predict_y)):\n",
    "        if predict_y[j] > 0.5:\n",
    "            predict_y[j] = 1\n",
    "        else :\n",
    "            predict_y[j] = 0\n",
    "\n",
    "    acc_count = 0\n",
    "    for k in range(len(predict_y)):\n",
    "        if predict_y[k] == Train_Y[k]:\n",
    "            acc_count += 1\n",
    "    train_acc = acc_count / len(predict_y)\n",
    "    Train_Acc.append([i, train_acc])\n",
    "\n",
    "    # ---------------------------------------------#\n",
    "    vpredict_y = DataFoward(ActivationFuncion,Test_X)[5]\n",
    "\n",
    "    vloss = cross_entropy(vpredict_y,Test_Y)\n",
    "    Val_Loss.append([i,vloss])\n",
    "    for p in range(len(vpredict_y)):\n",
    "        if vpredict_y[p] > 0.5:\n",
    "            vpredict_y[p] = 1\n",
    "        else:\n",
    "            vpredict_y[p] = 0\n",
    "\n",
    "    vacc_count = 0\n",
    "    for q in range(len(vpredict_y)):\n",
    "        if vpredict_y[q] == Test_Y[q]:\n",
    "            vacc_count += 1\n",
    "    v_acc = vacc_count / len(vpredict_y)\n",
    "    Val_Acc.append([i,v_acc])\n",
    "    if i % 200 == 0 :\n",
    "        print(\"epoches : %d , train loss : %f , train_acc : %f, vloss : %f, v_acc : %f\"%(i,train_loss,train_acc,vloss,v_acc))\n",
    "    if i == epoches-1 :\n",
    "        result.append(train_loss)\n",
    "        result.append(train_acc)\n",
    "        result.append(vloss)\n",
    "        result.append(v_acc)\n",
    "        print(\"complete\")"
   ]
  },
  {
   "cell_type": "code",
   "execution_count": 14,
   "metadata": {},
   "outputs": [
    {
     "data": {
      "image/png": "[encoded data removed]",
      "text/plain": [
       "<Figure size 432x288 with 1 Axes>"
      ]
     },
     "metadata": {
      "needs_background": "light"
     },
     "output_type": "display_data"
    },
    {
     "data": {
      "image/png": "[encoded data removed]",
      "text/plain": [
       "<Figure size 432x288 with 1 Axes>"
      ]
     },
     "metadata": {
      "needs_background": "light"
     },
     "output_type": "display_data"
    },
    {
     "data": {
      "text/html": [
       "<div>\n",
       "<style scoped>\n",
       "    .dataframe tbody tr th:only-of-type {\n",
       "        vertical-align: middle;\n",
       "    }\n",
       "\n",
       "    .dataframe tbody tr th {\n",
       "        vertical-align: top;\n",
       "    }\n",
       "\n",
       "    .dataframe thead th {\n",
       "        text-align: right;\n",
       "    }\n",
       "</style>\n",
       "<table border=\"1\" class=\"dataframe\">\n",
       "  <thead>\n",
       "    <tr style=\"text-align: right;\">\n",
       "      <th></th>\n",
       "      <th>loss</th>\n",
       "      <th>accuracy</th>\n",
       "    </tr>\n",
       "  </thead>\n",
       "  <tbody>\n",
       "    <tr>\n",
       "      <th>training</th>\n",
       "      <td>0.483</td>\n",
       "      <td>0.800</td>\n",
       "    </tr>\n",
       "    <tr>\n",
       "      <th>validation</th>\n",
       "      <td>0.492</td>\n",
       "      <td>0.871</td>\n",
       "    </tr>\n",
       "  </tbody>\n",
       "</table>\n",
       "</div>"
      ],
      "text/plain": [
       "             loss  accuracy\n",
       "training    0.483     0.800\n",
       "validation  0.492     0.871"
      ]
     },
     "execution_count": 14,
     "metadata": {},
     "output_type": "execute_result"
    },
    {
     "data": {
      "text/plain": [
       "<Figure size 432x288 with 0 Axes>"
      ]
     },
     "metadata": {},
     "output_type": "display_data"
    }
   ],
   "source": [
    "listOfTrainLoss = np.asarray(Train_Loss)\n",
    "listOfTrainAcc = np.asarray(Train_Acc)\n",
    "listOfTestLoss = np.asarray(Val_Loss)\n",
    "listOfTestAcc = np.asarray(Val_Acc)\n",
    "plt.title(ActivationFuncion)\n",
    "plt.xlabel('epoch')\n",
    "plt.xlim(0,epoches)\n",
    "plt.plot(listOfTrainLoss[:,0],listOfTrainLoss[:,1],c=\"y\",label='TrainLoss')\n",
    "plt.plot(listOfTestLoss[:,0],listOfTestLoss[:,1],label='ValLoss')\n",
    "plt.legend(loc=\"upper left\")\n",
    "plt.show()\n",
    "plt.title(ActivationFuncion)\n",
    "plt.xlabel('epoch')\n",
    "plt.xlim(0,epoches)\n",
    "plt.plot(listOfTrainAcc[:,0],listOfTrainAcc[:,1],c=\"r\",label='TrainAcc')\n",
    "plt.plot(listOfTestAcc[:,0],listOfTestAcc[:,1],c=\"b\",label='ValAcc')\n",
    "plt.legend(loc=\"upper left\")\n",
    "plt.show()\n",
    "\n",
    "fig = plt.figure()\n",
    "\n",
    "data = {'loss':[np.round(result[0][0],3),np.round(result[2][0],3)],'accuracy':[np.round(result[1],3),np.round(result[3],3)]}\n",
    "frame = DataFrame(data,index=[\"training\",\"validation\"])\n",
    "frame"
   ]
  }
 ],
 "metadata": {
  "kernelspec": {
   "display_name": "Python 3",
   "language": "python",
   "name": "python3"
  },
  "language_info": {
   "codemirror_mode": {
    "name": "ipython",
    "version": 3
   },
   "file_extension": ".py",
   "mimetype": "text/x-python",
   "name": "python",
   "nbconvert_exporter": "python",
   "pygments_lexer": "ipython3",
   "version": "3.7.3"
  }
 },
 "nbformat": 4,
 "nbformat_minor": 2
}
